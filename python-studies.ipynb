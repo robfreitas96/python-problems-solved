{
  "cells": [
    {
      "cell_type": "code",
      "execution_count": null,
      "metadata": {
        "colab": {
          "base_uri": "https://localhost:8080/"
        },
        "id": "jxSpqS0s-4_Y",
        "outputId": "ab2ec161-3d36-4d88-b3a9-6edf3812e105"
      },
      "outputs": [
        {
          "output_type": "stream",
          "name": "stdout",
          "text": [
            "1\n",
            "Fizz\n",
            "Buzz\n",
            "Fizz\n",
            "5\n",
            "FizzBuzz\n"
          ]
        }
      ],
      "source": [
        "#FIZZBUZZ\n",
        "\n",
        "def fizz_buzz(n: int):\n",
        "  for i in range(1, n+1):\n",
        "    if i%2==0 and i%3==0:\n",
        "      print('FizzBuzz')\n",
        "    elif i%2==0:\n",
        "      print('Fizz')\n",
        "    elif i%3==0:\n",
        "      print('Buzz')\n",
        "    else:\n",
        "      print(i)\n",
        "\n",
        "fizz_buzz(6)"
      ]
    },
    {
      "cell_type": "code",
      "execution_count": null,
      "metadata": {
        "id": "HsSZm3mb_mW8",
        "colab": {
          "base_uri": "https://localhost:8080/"
        },
        "outputId": "788788e7-0f51-44ca-c184-1139a26dd379"
      },
      "outputs": [
        {
          "output_type": "execute_result",
          "data": {
            "text/plain": [
              "{'a': 3, 'b': 1, 'n': 2}"
            ]
          },
          "metadata": {},
          "execution_count": 57
        }
      ],
      "source": [
        "#contar letras\n",
        "def contar_letras(s: str):\n",
        "    \"\"\"\n",
        "    >>> contar_letras('renzo')\n",
        "    {'r': 1, 'e': 1, 'n': 1, 'z': 1, 'o': 1}\n",
        "    >>> contar_letras('Rrenzo')\n",
        "    {'R': 1, 'r': 1, 'e': 1, 'n': 1, 'z': 1, 'o': 1}\n",
        "    >>> contar_letras('banana')\n",
        "    {'b_com_fatia_linear': 1, 'a_com_fatia_linar': 3, 'n': 2}\n",
        "    :param s:\n",
        "    :return:\n",
        "    \"\"\"\n",
        "    dct = {} \n",
        "    for letra in s:\n",
        "        dct[letra] = dct.get(letra, 0) + 1\n",
        "\n",
        "    return dct\n",
        "\n",
        "contar_letras('banana')\n",
        "#mentalmente: s='banana'\n",
        "#letra: 'b' -> dct={'b' : 1}\n",
        "#letra: 'a' -> dct={'b' : 1 'a' : 1}\n",
        "#letra 'n' ._ dct={'b':1, 'a':1, 'n':1}\n",
        "#letra 'a' -> dct={'b':1, 'a':2, 'n':1....}\n"
      ]
    },
    {
      "cell_type": "markdown",
      "source": [
        "**MEMORIZAR**\n",
        "\n",
        "Lista:\n",
        "\n",
        "    >>>list('banana')\n",
        "    ['b','a','n','a','n','a']\n",
        "\n",
        "    >>>lst[1,2]\n",
        "    >>>copia=list(lst)\n",
        "    >>>copia is lst\n",
        "    False\n",
        "\n",
        "    >>>lst.sort()\n",
        "    Ordena a própria lista, não cria uma nova.\n",
        "        \n",
        "String:\n",
        "\n",
        "    >>>str('banana')\n",
        "    'banana'\n",
        "    >>>''.join(['b','a','n','a','n','a'])\n",
        "    'banana'\n",
        "\n",
        "    >>>str('eu gosto de banana')\n",
        "    >>>str.split('caracter separador')\n",
        "    ['eu', 'gosto', 'de', 'banana']\n",
        "\n",
        "\n",
        "Métodos em comum\n",
        "\n",
        "    >>> s = 'banana'\n",
        "    >>> l = ['b','a','n','a','n','a']\n",
        "\n",
        "    >>> s[0], lst[0]\n",
        "    ('b','b')\n",
        "    >>>len(s), len(lst)\n",
        "    (6,6)\n",
        "    >>>s[2:5],lst[2:5]\n",
        "    ('nan', ['n','a','n'])\n",
        "    >>>s[:5],lst[:5]\n",
        "    ('banan', ['b','a','n','a','n'])\n",
        "    >>>s[4:], lst[4:]\n",
        "    ('na',['n','a'])\n",
        "    >>>sorted(s), sorted(lst)\n",
        "    Cria-se uma **nova lista** com elementos ordenados\n",
        "    (['a','a','a','b','n','n'],['a','a','a','b','n','n'])"
      ],
      "metadata": {
        "id": "9osH4WGINtol"
      }
    },
    {
      "cell_type": "code",
      "source": [
        "#Rotate Array\n",
        "\n",
        "from typing import Iterable\n",
        "\n",
        "#jeito simples\n",
        "def criar_lista(n1, n2): #função para gerar uma lista num intervalo n1 até n2\n",
        "    return list(range(n1, n2+1)) \n",
        "    \n",
        "def rotacionar(lista: list, k: int): # Quero pegar [1,2,3,4,5,6,7] e rotacionar para [5,6,7,1,2,3,4]\n",
        "\n",
        "  primeira_parte=lista[-k:] # primeira_parte pega o elemento '-1' : '7' apenas\n",
        "  segunda_parte=lista[:-k] # segunda_parte pega o elemento 0 até o -1, com '7' não incluso\n",
        "\n",
        "  return primeira_parte + segunda_parte\n",
        "\n",
        "rotacionar(criar_lista(1,20), 10) #lista(n1 até n2+1) e número de rotações"
      ],
      "metadata": {
        "colab": {
          "base_uri": "https://localhost:8080/"
        },
        "id": "51l-m3890_lU",
        "outputId": "c48dadcd-7aa9-4fc2-8f65-0403c5bc3c95"
      },
      "execution_count": null,
      "outputs": [
        {
          "output_type": "execute_result",
          "data": {
            "text/plain": [
              "[11, 12, 13, 14, 15, 16, 17, 18, 19, 20, 1, 2, 3, 4, 5, 6, 7, 8, 9, 10]"
            ]
          },
          "metadata": {},
          "execution_count": 23
        }
      ]
    },
    {
      "cell_type": "code",
      "source": [
        "#reverter palavras\n",
        "#the sky is blue\n",
        "#blue is the sky\n",
        "\n",
        "def reverter(frase: str):\n",
        "\n",
        "    palavras = frase.split() #gera uma lista com as palavras da minha frase separadas por ' '\n",
        "    return ' '.join(reversed(palavras)) #retorna a lista transformada numa string revertida\n",
        "\n",
        "\n",
        "reverter('the sky is blue')"
      ],
      "metadata": {
        "colab": {
          "base_uri": "https://localhost:8080/",
          "height": 35
        },
        "id": "gGuaZCFB5w6u",
        "outputId": "470c2dbb-b897-4477-9fd3-5060698cf68d"
      },
      "execution_count": null,
      "outputs": [
        {
          "output_type": "execute_result",
          "data": {
            "text/plain": [
              "'blue is sky the'"
            ],
            "application/vnd.google.colaboratory.intrinsic+json": {
              "type": "string"
            }
          },
          "metadata": {},
          "execution_count": 24
        }
      ]
    },
    {
      "cell_type": "code",
      "source": [
        "#notação polonesa reversa\n",
        "import operator\n",
        "from typing import List\n",
        "\n",
        "def not_pol_rev(expression: List[str]) -> int:\n",
        "\n",
        "  dp = [] # Criando uma lista deposit (dp) para depositar os operadores e os operandos\n",
        "\n",
        "  operators = {'+': operator.add, '-': operator.sub, '*': operator.mul, '/': operator.floordiv}\n",
        "\n",
        "  for element in expression:\n",
        "    try:\n",
        "      element_operand = int(element)\n",
        "      dp.append(element_operand)\n",
        "    except ValueError:\n",
        "      element_operator = element\n",
        "      element_operand_2 = dp.pop()\n",
        "      element_operand_1 = dp.pop()\n",
        "      \n",
        "\n",
        "      if element_operator == '+':\n",
        "        result = element_operand_1 + element_operand_2\n",
        "      elif element_operator == '-':\n",
        "        result = element_operand_1 - element_operand_2\n",
        "      elif element_operator == '*':\n",
        "        result = element_operand_1 * element_operand_2\n",
        "      elif element_operator == '/':\n",
        "        result = element_operand_1 // element_operand_2\n",
        "      dp.append(result)\n",
        "\n",
        "  return print(dp.pop())\n",
        "\n",
        "not_pol_rev([\"4\", \"13\", \"5\", \"/\", \"+\"])"
      ],
      "metadata": {
        "id": "_zzWlIFd9AwI",
        "colab": {
          "base_uri": "https://localhost:8080/"
        },
        "outputId": "07c55908-ed0d-4447-e6c2-09c69a673d34"
      },
      "execution_count": 31,
      "outputs": [
        {
          "output_type": "stream",
          "name": "stdout",
          "text": [
            "6\n"
          ]
        }
      ]
    },
    {
      "cell_type": "code",
      "source": [
        "def isormorfics(s: str, t: str) -> bool: #função para definir se as strings s e t sao isomorficas ou nao\n",
        "  if len(s) != len(t):\n",
        "    return False\n",
        "\n",
        "  dct={}\n",
        "\n",
        "  for letter_s, letter_t in zip(s,t):\n",
        "    try:\n",
        "      if dct[letter_s] != letter_t:\n",
        "        return False\n",
        "    except KeyError:\n",
        "        dct[letter_s] = letter_t\n",
        "  return True"
      ],
      "metadata": {
        "id": "xnjkwbCWqCzo"
      },
      "execution_count": 9,
      "outputs": []
    },
    {
      "cell_type": "code",
      "source": [
        ""
      ],
      "metadata": {
        "id": "5Hrvh2fYv-IA"
      },
      "execution_count": 3,
      "outputs": []
    },
    {
      "cell_type": "code",
      "source": [
        ""
      ],
      "metadata": {
        "id": "_jUX36Rdv_A0"
      },
      "execution_count": null,
      "outputs": []
    }
  ],
  "metadata": {
    "colab": {
      "name": "Estudos_python.ipynb",
      "provenance": []
    },
    "kernelspec": {
      "display_name": "Python 3",
      "name": "python3"
    },
    "language_info": {
      "name": "python"
    }
  },
  "nbformat": 4,
  "nbformat_minor": 0
}
